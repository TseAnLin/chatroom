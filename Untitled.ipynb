{
 "cells": [
  {
   "cell_type": "code",
   "execution_count": null,
   "id": "6bfbb230",
   "metadata": {},
   "outputs": [
    {
     "name": "stdout",
     "output_type": "stream",
     "text": [
      "Listening for incoming messages..\n",
      "Connected to  127.0.0.1 : 13773\n",
      "Connected to  127.0.0.1 : 13774\n"
     ]
    },
    {
     "name": "stderr",
     "output_type": "stream",
     "text": [
      "Exception in thread Thread-6 (receive_messages):\n",
      "Traceback (most recent call last):\n",
      "  File \"D:\\anaconda\\envs\\scoket\\lib\\threading.py\", line 1016, in _bootstrap_inner\n",
      "    self.run()\n",
      "  File \"D:\\anaconda\\envs\\scoket\\lib\\threading.py\", line 953, in run\n",
      "    self._target(*self._args, **self._kwargs)\n",
      "  File \"C:\\Users\\user\\Desktop\\Python-Chat-Gui-App-master\\server.py\", line 31, in receive_messages\n",
      "    incoming_buffer = so.recv(256) #initialize the buffer\n",
      "ConnectionResetError: [WinError 10054] 遠端主機已強制關閉一個現存的連線。\n",
      "Exception in thread Thread-5 (receive_messages):\n",
      "Traceback (most recent call last):\n",
      "  File \"D:\\anaconda\\envs\\scoket\\lib\\threading.py\", line 1016, in _bootstrap_inner\n",
      "    self.run()\n",
      "  File \"D:\\anaconda\\envs\\scoket\\lib\\threading.py\", line 953, in run\n",
      "    self._target(*self._args, **self._kwargs)\n",
      "  File \"C:\\Users\\user\\Desktop\\Python-Chat-Gui-App-master\\server.py\", line 35, in receive_messages\n",
      "    self.broadcast_to_all_clients(so)  # send to all clients\n",
      "  File \"C:\\Users\\user\\Desktop\\Python-Chat-Gui-App-master\\server.py\", line 42, in broadcast_to_all_clients\n",
      "    socket.sendall(self.last_received_message.encode('utf-8'))\n",
      "ConnectionResetError: [WinError 10054] 遠端主機已強制關閉一個現存的連線。\n"
     ]
    }
   ],
   "source": [
    "%run server.py"
   ]
  },
  {
   "cell_type": "code",
   "execution_count": null,
   "id": "7aa17fdb",
   "metadata": {},
   "outputs": [],
   "source": []
  }
 ],
 "metadata": {
  "kernelspec": {
   "display_name": "socket",
   "language": "python",
   "name": "scoket"
  },
  "language_info": {
   "codemirror_mode": {
    "name": "ipython",
    "version": 3
   },
   "file_extension": ".py",
   "mimetype": "text/x-python",
   "name": "python",
   "nbconvert_exporter": "python",
   "pygments_lexer": "ipython3",
   "version": "3.10.6"
  }
 },
 "nbformat": 4,
 "nbformat_minor": 5
}
