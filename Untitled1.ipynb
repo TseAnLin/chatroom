{
 "cells": [
  {
   "cell_type": "code",
   "execution_count": 1,
   "id": "15deaaaa",
   "metadata": {},
   "outputs": [
    {
     "name": "stderr",
     "output_type": "stream",
     "text": [
      "D:\\anaconda\\envs\\scoket\\lib\\site-packages\\tqdm\\auto.py:22: TqdmWarning: IProgress not found. Please update jupyter and ipywidgets. See https://ipywidgets.readthedocs.io/en/stable/user_install.html\n",
      "  from .autonotebook import tqdm as notebook_tqdm\n",
      "D:\\anaconda\\envs\\scoket\\lib\\site-packages\\transformers\\models\\marian\\tokenization_marian.py:194: UserWarning: Recommended: pip install sacremoses.\n",
      "  warnings.warn(\"Recommended: pip install sacremoses.\")\n",
      "Exception in thread Exception in Tkinter callback\n",
      "Thread-5 (receive_message_from_server):\n",
      "Traceback (most recent call last):\n",
      "  File \"D:\\anaconda\\envs\\scoket\\lib\\threading.py\", line 1016, in _bootstrap_inner\n",
      "    self.run()\n",
      "  File \"D:\\anaconda\\envs\\scoket\\lib\\threading.py\", line 953, in run\n",
      "    self._target(*self._args, **self._kwargs)\n",
      "  File \"C:\\Users\\user\\Desktop\\Python-Chat-Gui-App-master\\client.py\", line 50, in receive_message_from_server\n",
      "    buffer = so.recv(256)\n",
      "ConnectionAbortedError: [WinError 10053] 連線已被您主機上的軟體中止。\n",
      "Traceback (most recent call last):\n",
      "  File \"D:\\anaconda\\envs\\scoket\\lib\\tkinter\\__init__.py\", line 1921, in __call__\n",
      "    return self.func(*args)\n",
      "  File \"C:\\Users\\user\\Desktop\\Python-Chat-Gui-App-master\\client.py\", line 184, in on_close_window\n",
      "    exit(0)\n",
      "NameError: name 'exit' is not defined\n"
     ]
    }
   ],
   "source": [
    "%run client.py"
   ]
  },
  {
   "cell_type": "code",
   "execution_count": null,
   "id": "4840719c",
   "metadata": {},
   "outputs": [],
   "source": []
  },
  {
   "cell_type": "code",
   "execution_count": null,
   "id": "ad71cd72",
   "metadata": {},
   "outputs": [],
   "source": []
  }
 ],
 "metadata": {
  "kernelspec": {
   "display_name": "socket",
   "language": "python",
   "name": "scoket"
  },
  "language_info": {
   "codemirror_mode": {
    "name": "ipython",
    "version": 3
   },
   "file_extension": ".py",
   "mimetype": "text/x-python",
   "name": "python",
   "nbconvert_exporter": "python",
   "pygments_lexer": "ipython3",
   "version": "3.10.6"
  }
 },
 "nbformat": 4,
 "nbformat_minor": 5
}
