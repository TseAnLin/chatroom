{
 "cells": [
  {
   "cell_type": "code",
   "execution_count": 17,
   "id": "185d6307",
   "metadata": {},
   "outputs": [
    {
     "name": "stderr",
     "output_type": "stream",
     "text": [
      "D:\\anaconda\\envs\\scoket\\lib\\site-packages\\transformers\\generation\\utils.py:1387: UserWarning: Neither `max_length` nor `max_new_tokens` has been set, `max_length` will default to 512 (`self.config.max_length`). Controlling `max_length` via the config is deprecated and `max_length` will be removed from the config in v5 of Transformers -- we recommend using `max_new_tokens` to control the maximum length of the generation.\n",
      "  warnings.warn(\n"
     ]
    },
    {
     "name": "stdout",
     "output_type": "stream",
     "text": [
      "很高兴认识你\n"
     ]
    }
   ],
   "source": [
    "from transformers import AutoTokenizer,AutoModelForSeq2SeqLM\n",
    "import numpy as np\n",
    "\n",
    "tokenizer=AutoTokenizer.from_pretrained(\"Helsinki-NLP/opus-mt-en-zh\")\n",
    "\n",
    "model=AutoModelForSeq2SeqLM.from_pretrained(\"Helsinki-NLP/opus-mt-en-zh\")\n",
    "data=\"Nice to meet you\"\n",
    "batch=tokenizer.prepare_seq2seq_batch(src_texts=[data],return_tensors='pt')\n",
    "#print(type(batch[\"input_ids\"][0]))\n",
    "#batch[\"input_ids\"]=np.array(batch[\"input_ids\"])\n",
    "#batch[\"attention_mask\"]=np.array(batch[\"attention_mask\"])\n",
    "batch[\"input_ids\"]=batch[\"input_ids\"][:,:512] \n",
    "batch[\"attention_mask\"]=batch[\"attention_mask\"][:,:512]\n",
    "translation=model.generate(**batch)\n",
    "result=tokenizer.batch_decode(translation,skip_special_tokens=True)\n",
    "print(type(result[0]))"
   ]
  },
  {
   "cell_type": "code",
   "execution_count": null,
   "id": "c4b8a311",
   "metadata": {},
   "outputs": [],
   "source": []
  }
 ],
 "metadata": {
  "kernelspec": {
   "display_name": "socket",
   "language": "python",
   "name": "scoket"
  },
  "language_info": {
   "codemirror_mode": {
    "name": "ipython",
    "version": 3
   },
   "file_extension": ".py",
   "mimetype": "text/x-python",
   "name": "python",
   "nbconvert_exporter": "python",
   "pygments_lexer": "ipython3",
   "version": "3.10.6"
  }
 },
 "nbformat": 4,
 "nbformat_minor": 5
}
